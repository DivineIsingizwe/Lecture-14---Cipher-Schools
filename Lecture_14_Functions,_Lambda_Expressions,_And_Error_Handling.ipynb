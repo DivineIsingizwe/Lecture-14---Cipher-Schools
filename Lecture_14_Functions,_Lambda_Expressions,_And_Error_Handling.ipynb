{
  "nbformat": 4,
  "nbformat_minor": 0,
  "metadata": {
    "colab": {
      "provenance": []
    },
    "kernelspec": {
      "name": "python3",
      "display_name": "Python 3"
    },
    "language_info": {
      "name": "python"
    }
  },
  "cells": [
    {
      "cell_type": "code",
      "execution_count": 4,
      "metadata": {
        "id": "AreCg2TYOhUK"
      },
      "outputs": [],
      "source": [
        "def square(a):\n",
        "  print(\"a**2\")\n",
        "\n",
        "  square(5)"
      ]
    },
    {
      "cell_type": "code",
      "source": [
        "print(\"hello word\")"
      ],
      "metadata": {
        "colab": {
          "base_uri": "https://localhost:8080/"
        },
        "id": "dmeVFa7XT0K8",
        "outputId": "100d3223-5d20-40a4-d078-86bc6645eed3"
      },
      "execution_count": 3,
      "outputs": [
        {
          "output_type": "stream",
          "name": "stdout",
          "text": [
            "hello word\n"
          ]
        }
      ]
    },
    {
      "cell_type": "code",
      "source": [
        "!pip install numpy"
      ],
      "metadata": {
        "colab": {
          "base_uri": "https://localhost:8080/"
        },
        "id": "msbUSA74UsP3",
        "outputId": "f656aadd-4969-46b9-8242-8e4506e83d19"
      },
      "execution_count": 5,
      "outputs": [
        {
          "output_type": "stream",
          "name": "stdout",
          "text": [
            "Requirement already satisfied: numpy in /usr/local/lib/python3.10/dist-packages (1.25.2)\n"
          ]
        }
      ]
    },
    {
      "cell_type": "code",
      "source": [
        "!pip list -v"
      ],
      "metadata": {
        "colab": {
          "base_uri": "https://localhost:8080/"
        },
        "id": "9QKqFRJvU4L9",
        "outputId": "48f69c71-879d-470f-bb81-b61a4bacb89d"
      },
      "execution_count": 6,
      "outputs": [
        {
          "output_type": "stream",
          "name": "stdout",
          "text": [
            "Package                          Version               Location                                Installer\n",
            "-------------------------------- --------------------- --------------------------------------- ---------\n",
            "absl-py                          1.4.0                 /usr/local/lib/python3.10/dist-packages pip\n",
            "aiohttp                          3.9.5                 /usr/local/lib/python3.10/dist-packages pip\n",
            "aiosignal                        1.3.1                 /usr/local/lib/python3.10/dist-packages pip\n",
            "alabaster                        0.7.16                /usr/local/lib/python3.10/dist-packages pip\n",
            "albumentations                   1.3.1                 /usr/local/lib/python3.10/dist-packages pip\n",
            "altair                           4.2.2                 /usr/local/lib/python3.10/dist-packages pip\n",
            "annotated-types                  0.7.0                 /usr/local/lib/python3.10/dist-packages pip\n",
            "anyio                            3.7.1                 /usr/local/lib/python3.10/dist-packages pip\n",
            "argon2-cffi                      23.1.0                /usr/local/lib/python3.10/dist-packages pip\n",
            "argon2-cffi-bindings             21.2.0                /usr/local/lib/python3.10/dist-packages pip\n",
            "array_record                     0.5.1                 /usr/local/lib/python3.10/dist-packages pip\n",
            "arviz                            0.15.1                /usr/local/lib/python3.10/dist-packages pip\n",
            "astropy                          5.3.4                 /usr/local/lib/python3.10/dist-packages pip\n",
            "astunparse                       1.6.3                 /usr/local/lib/python3.10/dist-packages pip\n",
            "async-timeout                    4.0.3                 /usr/local/lib/python3.10/dist-packages pip\n",
            "atpublic                         4.1.0                 /usr/local/lib/python3.10/dist-packages pip\n",
            "attrs                            23.2.0                /usr/local/lib/python3.10/dist-packages pip\n",
            "audioread                        3.0.1                 /usr/local/lib/python3.10/dist-packages pip\n",
            "autograd                         1.6.2                 /usr/local/lib/python3.10/dist-packages pip\n",
            "Babel                            2.15.0                /usr/local/lib/python3.10/dist-packages pip\n",
            "backcall                         0.2.0                 /usr/local/lib/python3.10/dist-packages pip\n",
            "beautifulsoup4                   4.12.3                /usr/local/lib/python3.10/dist-packages pip\n",
            "bidict                           0.23.1                /usr/local/lib/python3.10/dist-packages pip\n",
            "bigframes                        1.9.0                 /usr/local/lib/python3.10/dist-packages pip\n",
            "bleach                           6.1.0                 /usr/local/lib/python3.10/dist-packages pip\n",
            "blinker                          1.4                   /usr/lib/python3/dist-packages\n",
            "blis                             0.7.11                /usr/local/lib/python3.10/dist-packages pip\n",
            "blosc2                           2.0.0                 /usr/local/lib/python3.10/dist-packages pip\n",
            "bokeh                            3.3.4                 /usr/local/lib/python3.10/dist-packages pip\n",
            "bqplot                           0.12.43               /usr/local/lib/python3.10/dist-packages pip\n",
            "branca                           0.7.2                 /usr/local/lib/python3.10/dist-packages pip\n",
            "build                            1.2.1                 /usr/local/lib/python3.10/dist-packages pip\n",
            "CacheControl                     0.14.0                /usr/local/lib/python3.10/dist-packages pip\n",
            "cachetools                       5.3.3                 /usr/local/lib/python3.10/dist-packages pip\n",
            "catalogue                        2.0.10                /usr/local/lib/python3.10/dist-packages pip\n",
            "certifi                          2024.6.2              /usr/local/lib/python3.10/dist-packages pip\n",
            "cffi                             1.16.0                /usr/local/lib/python3.10/dist-packages pip\n",
            "chardet                          5.2.0                 /usr/local/lib/python3.10/dist-packages pip\n",
            "charset-normalizer               3.3.2                 /usr/local/lib/python3.10/dist-packages pip\n",
            "chex                             0.1.86                /usr/local/lib/python3.10/dist-packages pip\n",
            "click                            8.1.7                 /usr/local/lib/python3.10/dist-packages pip\n",
            "click-plugins                    1.1.1                 /usr/local/lib/python3.10/dist-packages pip\n",
            "cligj                            0.7.2                 /usr/local/lib/python3.10/dist-packages pip\n",
            "cloudpathlib                     0.18.1                /usr/local/lib/python3.10/dist-packages pip\n",
            "cloudpickle                      2.2.1                 /usr/local/lib/python3.10/dist-packages pip\n",
            "cmake                            3.27.9                /usr/local/lib/python3.10/dist-packages pip\n",
            "cmdstanpy                        1.2.4                 /usr/local/lib/python3.10/dist-packages pip\n",
            "colorcet                         3.1.0                 /usr/local/lib/python3.10/dist-packages pip\n",
            "colorlover                       0.3.0                 /usr/local/lib/python3.10/dist-packages pip\n",
            "colour                           0.1.5                 /usr/local/lib/python3.10/dist-packages pip\n",
            "community                        1.0.0b1               /usr/local/lib/python3.10/dist-packages pip\n",
            "confection                       0.1.5                 /usr/local/lib/python3.10/dist-packages pip\n",
            "cons                             0.4.6                 /usr/local/lib/python3.10/dist-packages pip\n",
            "contextlib2                      21.6.0                /usr/local/lib/python3.10/dist-packages pip\n",
            "contourpy                        1.2.1                 /usr/local/lib/python3.10/dist-packages pip\n",
            "cryptography                     42.0.8                /usr/local/lib/python3.10/dist-packages pip\n",
            "cuda-python                      12.2.1                /usr/local/lib/python3.10/dist-packages pip\n",
            "cudf-cu12                        24.4.1                /usr/local/lib/python3.10/dist-packages pip\n",
            "cufflinks                        0.17.3                /usr/local/lib/python3.10/dist-packages pip\n",
            "cupy-cuda12x                     12.2.0                /usr/local/lib/python3.10/dist-packages pip\n",
            "cvxopt                           1.3.2                 /usr/local/lib/python3.10/dist-packages pip\n",
            "cvxpy                            1.3.4                 /usr/local/lib/python3.10/dist-packages pip\n",
            "cycler                           0.12.1                /usr/local/lib/python3.10/dist-packages pip\n",
            "cymem                            2.0.8                 /usr/local/lib/python3.10/dist-packages pip\n",
            "Cython                           3.0.10                /usr/local/lib/python3.10/dist-packages pip\n",
            "dask                             2023.8.1              /usr/local/lib/python3.10/dist-packages pip\n",
            "datascience                      0.17.6                /usr/local/lib/python3.10/dist-packages pip\n",
            "db-dtypes                        1.2.0                 /usr/local/lib/python3.10/dist-packages pip\n",
            "dbus-python                      1.2.18                /usr/lib/python3/dist-packages\n",
            "debugpy                          1.6.6                 /usr/local/lib/python3.10/dist-packages pip\n",
            "decorator                        4.4.2                 /usr/local/lib/python3.10/dist-packages pip\n",
            "defusedxml                       0.7.1                 /usr/local/lib/python3.10/dist-packages pip\n",
            "distributed                      2023.8.1              /usr/local/lib/python3.10/dist-packages pip\n",
            "distro                           1.7.0                 /usr/lib/python3/dist-packages\n",
            "dlib                             19.24.4               /usr/local/lib/python3.10/dist-packages pip\n",
            "dm-tree                          0.1.8                 /usr/local/lib/python3.10/dist-packages pip\n",
            "docstring_parser                 0.16                  /usr/local/lib/python3.10/dist-packages pip\n",
            "docutils                         0.18.1                /usr/local/lib/python3.10/dist-packages pip\n",
            "dopamine_rl                      4.0.9                 /usr/local/lib/python3.10/dist-packages pip\n",
            "duckdb                           0.10.3                /usr/local/lib/python3.10/dist-packages pip\n",
            "earthengine-api                  0.1.409               /usr/local/lib/python3.10/dist-packages pip\n",
            "easydict                         1.13                  /usr/local/lib/python3.10/dist-packages pip\n",
            "ecos                             2.0.14                /usr/local/lib/python3.10/dist-packages pip\n",
            "editdistance                     0.6.2                 /usr/local/lib/python3.10/dist-packages pip\n",
            "eerepr                           0.0.4                 /usr/local/lib/python3.10/dist-packages pip\n",
            "en-core-web-sm                   3.7.1                 /usr/local/lib/python3.10/dist-packages pip\n",
            "entrypoints                      0.4                   /usr/local/lib/python3.10/dist-packages pip\n",
            "et-xmlfile                       1.1.0                 /usr/local/lib/python3.10/dist-packages pip\n",
            "etils                            1.7.0                 /usr/local/lib/python3.10/dist-packages pip\n",
            "etuples                          0.3.9                 /usr/local/lib/python3.10/dist-packages pip\n",
            "exceptiongroup                   1.2.1                 /usr/local/lib/python3.10/dist-packages pip\n",
            "fastai                           2.7.15                /usr/local/lib/python3.10/dist-packages pip\n",
            "fastcore                         1.5.48                /usr/local/lib/python3.10/dist-packages pip\n",
            "fastdownload                     0.0.7                 /usr/local/lib/python3.10/dist-packages pip\n",
            "fastjsonschema                   2.20.0                /usr/local/lib/python3.10/dist-packages pip\n",
            "fastprogress                     1.0.3                 /usr/local/lib/python3.10/dist-packages pip\n",
            "fastrlock                        0.8.2                 /usr/local/lib/python3.10/dist-packages pip\n",
            "filelock                         3.15.4                /usr/local/lib/python3.10/dist-packages pip\n",
            "fiona                            1.9.6                 /usr/local/lib/python3.10/dist-packages pip\n",
            "firebase-admin                   5.3.0                 /usr/local/lib/python3.10/dist-packages pip\n",
            "Flask                            2.2.5                 /usr/local/lib/python3.10/dist-packages pip\n",
            "flatbuffers                      24.3.25               /usr/local/lib/python3.10/dist-packages pip\n",
            "flax                             0.8.4                 /usr/local/lib/python3.10/dist-packages pip\n",
            "folium                           0.14.0                /usr/local/lib/python3.10/dist-packages pip\n",
            "fonttools                        4.53.0                /usr/local/lib/python3.10/dist-packages pip\n",
            "frozendict                       2.4.4                 /usr/local/lib/python3.10/dist-packages pip\n",
            "frozenlist                       1.4.1                 /usr/local/lib/python3.10/dist-packages pip\n",
            "fsspec                           2023.6.0              /usr/local/lib/python3.10/dist-packages pip\n",
            "future                           0.18.3                /usr/local/lib/python3.10/dist-packages pip\n",
            "gast                             0.5.5                 /usr/local/lib/python3.10/dist-packages pip\n",
            "gcsfs                            2023.6.0              /usr/local/lib/python3.10/dist-packages pip\n",
            "GDAL                             3.6.4                 /usr/local/lib/python3.10/dist-packages pip\n",
            "gdown                            5.1.0                 /usr/local/lib/python3.10/dist-packages pip\n",
            "geemap                           0.32.1                /usr/local/lib/python3.10/dist-packages pip\n",
            "gensim                           4.3.2                 /usr/local/lib/python3.10/dist-packages pip\n",
            "geocoder                         1.38.1                /usr/local/lib/python3.10/dist-packages pip\n",
            "geographiclib                    2.0                   /usr/local/lib/python3.10/dist-packages pip\n",
            "geopandas                        0.13.2                /usr/local/lib/python3.10/dist-packages pip\n",
            "geopy                            2.3.0                 /usr/local/lib/python3.10/dist-packages pip\n",
            "gin-config                       0.5.0                 /usr/local/lib/python3.10/dist-packages pip\n",
            "glob2                            0.7                   /usr/local/lib/python3.10/dist-packages pip\n",
            "google                           2.0.3                 /usr/local/lib/python3.10/dist-packages pip\n",
            "google-ai-generativelanguage     0.6.4                 /usr/local/lib/python3.10/dist-packages pip\n",
            "google-api-core                  2.11.1                /usr/local/lib/python3.10/dist-packages pip\n",
            "google-api-python-client         2.84.0                /usr/local/lib/python3.10/dist-packages pip\n",
            "google-auth                      2.27.0                /usr/local/lib/python3.10/dist-packages pip\n",
            "google-auth-httplib2             0.1.1                 /usr/local/lib/python3.10/dist-packages pip\n",
            "google-auth-oauthlib             1.2.0                 /usr/local/lib/python3.10/dist-packages pip\n",
            "google-cloud-aiplatform          1.57.0                /usr/local/lib/python3.10/dist-packages pip\n",
            "google-cloud-bigquery            3.21.0                /usr/local/lib/python3.10/dist-packages pip\n",
            "google-cloud-bigquery-connection 1.12.1                /usr/local/lib/python3.10/dist-packages pip\n",
            "google-cloud-bigquery-storage    2.25.0                /usr/local/lib/python3.10/dist-packages pip\n",
            "google-cloud-core                2.3.3                 /usr/local/lib/python3.10/dist-packages pip\n",
            "google-cloud-datastore           2.15.2                /usr/local/lib/python3.10/dist-packages pip\n",
            "google-cloud-firestore           2.11.1                /usr/local/lib/python3.10/dist-packages pip\n",
            "google-cloud-functions           1.13.3                /usr/local/lib/python3.10/dist-packages pip\n",
            "google-cloud-iam                 2.15.0                /usr/local/lib/python3.10/dist-packages pip\n",
            "google-cloud-language            2.13.3                /usr/local/lib/python3.10/dist-packages pip\n",
            "google-cloud-resource-manager    1.12.3                /usr/local/lib/python3.10/dist-packages pip\n",
            "google-cloud-storage             2.8.0                 /usr/local/lib/python3.10/dist-packages pip\n",
            "google-cloud-translate           3.11.3                /usr/local/lib/python3.10/dist-packages pip\n",
            "google-colab                     1.0.0                 /usr/local/lib/python3.10/dist-packages pip\n",
            "google-crc32c                    1.5.0                 /usr/local/lib/python3.10/dist-packages pip\n",
            "google-generativeai              0.5.4                 /usr/local/lib/python3.10/dist-packages pip\n",
            "google-pasta                     0.2.0                 /usr/local/lib/python3.10/dist-packages pip\n",
            "google-resumable-media           2.7.1                 /usr/local/lib/python3.10/dist-packages pip\n",
            "googleapis-common-protos         1.63.2                /usr/local/lib/python3.10/dist-packages pip\n",
            "googledrivedownloader            0.4                   /usr/local/lib/python3.10/dist-packages pip\n",
            "graphviz                         0.20.3                /usr/local/lib/python3.10/dist-packages pip\n",
            "greenlet                         3.0.3                 /usr/local/lib/python3.10/dist-packages pip\n",
            "grpc-google-iam-v1               0.13.1                /usr/local/lib/python3.10/dist-packages pip\n",
            "grpcio                           1.64.1                /usr/local/lib/python3.10/dist-packages pip\n",
            "grpcio-status                    1.48.2                /usr/local/lib/python3.10/dist-packages pip\n",
            "gspread                          6.0.2                 /usr/local/lib/python3.10/dist-packages pip\n",
            "gspread-dataframe                3.3.1                 /usr/local/lib/python3.10/dist-packages pip\n",
            "gym                              0.25.2                /usr/local/lib/python3.10/dist-packages pip\n",
            "gym-notices                      0.0.8                 /usr/local/lib/python3.10/dist-packages pip\n",
            "h5netcdf                         1.3.0                 /usr/local/lib/python3.10/dist-packages pip\n",
            "h5py                             3.9.0                 /usr/local/lib/python3.10/dist-packages pip\n",
            "holidays                         0.51                  /usr/local/lib/python3.10/dist-packages pip\n",
            "holoviews                        1.17.1                /usr/local/lib/python3.10/dist-packages pip\n",
            "html5lib                         1.1                   /usr/local/lib/python3.10/dist-packages pip\n",
            "httpimport                       1.3.1                 /usr/local/lib/python3.10/dist-packages pip\n",
            "httplib2                         0.22.0                /usr/local/lib/python3.10/dist-packages pip\n",
            "huggingface-hub                  0.23.4                /usr/local/lib/python3.10/dist-packages pip\n",
            "humanize                         4.7.0                 /usr/local/lib/python3.10/dist-packages pip\n",
            "hyperopt                         0.2.7                 /usr/local/lib/python3.10/dist-packages pip\n",
            "ibis-framework                   8.0.0                 /usr/local/lib/python3.10/dist-packages pip\n",
            "idna                             3.7                   /usr/local/lib/python3.10/dist-packages pip\n",
            "imageio                          2.31.6                /usr/local/lib/python3.10/dist-packages pip\n",
            "imageio-ffmpeg                   0.5.1                 /usr/local/lib/python3.10/dist-packages pip\n",
            "imagesize                        1.4.1                 /usr/local/lib/python3.10/dist-packages pip\n",
            "imbalanced-learn                 0.10.1                /usr/local/lib/python3.10/dist-packages pip\n",
            "imgaug                           0.4.0                 /usr/local/lib/python3.10/dist-packages pip\n",
            "immutabledict                    4.2.0                 /usr/local/lib/python3.10/dist-packages pip\n",
            "importlib_metadata               8.0.0                 /usr/local/lib/python3.10/dist-packages pip\n",
            "importlib_resources              6.4.0                 /usr/local/lib/python3.10/dist-packages pip\n",
            "imutils                          0.5.4                 /usr/local/lib/python3.10/dist-packages pip\n",
            "inflect                          7.0.0                 /usr/local/lib/python3.10/dist-packages pip\n",
            "iniconfig                        2.0.0                 /usr/local/lib/python3.10/dist-packages pip\n",
            "intel-openmp                     2023.2.4              /usr/local/lib/python3.10/dist-packages pip\n",
            "ipyevents                        2.0.2                 /usr/local/lib/python3.10/dist-packages pip\n",
            "ipyfilechooser                   0.6.0                 /usr/local/lib/python3.10/dist-packages pip\n",
            "ipykernel                        5.5.6                 /usr/local/lib/python3.10/dist-packages pip\n",
            "ipyleaflet                       0.18.2                /usr/local/lib/python3.10/dist-packages pip\n",
            "ipyparallel                      8.8.0                 /usr/local/lib/python3.10/dist-packages pip\n",
            "ipython                          7.34.0                /usr/local/lib/python3.10/dist-packages pip\n",
            "ipython-genutils                 0.2.0                 /usr/local/lib/python3.10/dist-packages pip\n",
            "ipython-sql                      0.5.0                 /usr/local/lib/python3.10/dist-packages pip\n",
            "ipytree                          0.2.2                 /usr/local/lib/python3.10/dist-packages pip\n",
            "ipywidgets                       7.7.1                 /usr/local/lib/python3.10/dist-packages pip\n",
            "itsdangerous                     2.2.0                 /usr/local/lib/python3.10/dist-packages pip\n",
            "jax                              0.4.26                /usr/local/lib/python3.10/dist-packages pip\n",
            "jaxlib                           0.4.26+cuda12.cudnn89 /usr/local/lib/python3.10/dist-packages pip\n",
            "jeepney                          0.7.1                 /usr/lib/python3/dist-packages          flit\n",
            "jellyfish                        1.0.4                 /usr/local/lib/python3.10/dist-packages pip\n",
            "jieba                            0.42.1                /usr/local/lib/python3.10/dist-packages pip\n",
            "Jinja2                           3.1.4                 /usr/local/lib/python3.10/dist-packages pip\n",
            "joblib                           1.4.2                 /usr/local/lib/python3.10/dist-packages pip\n",
            "jsonpickle                       3.2.2                 /usr/local/lib/python3.10/dist-packages pip\n",
            "jsonschema                       4.19.2                /usr/local/lib/python3.10/dist-packages pip\n",
            "jsonschema-specifications        2023.12.1             /usr/local/lib/python3.10/dist-packages pip\n",
            "jupyter-client                   6.1.12                /usr/local/lib/python3.10/dist-packages pip\n",
            "jupyter-console                  6.1.0                 /usr/local/lib/python3.10/dist-packages pip\n",
            "jupyter_core                     5.7.2                 /usr/local/lib/python3.10/dist-packages pip\n",
            "jupyter-server                   1.24.0                /usr/local/lib/python3.10/dist-packages pip\n",
            "jupyterlab_pygments              0.3.0                 /usr/local/lib/python3.10/dist-packages pip\n",
            "jupyterlab_widgets               3.0.11                /usr/local/lib/python3.10/dist-packages pip\n",
            "kaggle                           1.6.14                /usr/local/lib/python3.10/dist-packages pip\n",
            "kagglehub                        0.2.5                 /usr/local/lib/python3.10/dist-packages pip\n",
            "keras                            2.15.0                /usr/local/lib/python3.10/dist-packages pip\n",
            "keyring                          23.5.0                /usr/lib/python3/dist-packages\n",
            "kiwisolver                       1.4.5                 /usr/local/lib/python3.10/dist-packages pip\n",
            "langcodes                        3.4.0                 /usr/local/lib/python3.10/dist-packages pip\n",
            "language_data                    1.2.0                 /usr/local/lib/python3.10/dist-packages pip\n",
            "launchpadlib                     1.10.16               /usr/lib/python3/dist-packages\n",
            "lazr.restfulclient               0.14.4                /usr/lib/python3/dist-packages\n",
            "lazr.uri                         1.0.6                 /usr/lib/python3/dist-packages\n",
            "lazy_loader                      0.4                   /usr/local/lib/python3.10/dist-packages pip\n",
            "libclang                         18.1.1                /usr/local/lib/python3.10/dist-packages pip\n",
            "librosa                          0.10.2.post1          /usr/local/lib/python3.10/dist-packages pip\n",
            "lightgbm                         4.1.0                 /usr/local/lib/python3.10/dist-packages pip\n",
            "linkify-it-py                    2.0.3                 /usr/local/lib/python3.10/dist-packages pip\n",
            "llvmlite                         0.41.1                /usr/local/lib/python3.10/dist-packages pip\n",
            "locket                           1.0.0                 /usr/local/lib/python3.10/dist-packages pip\n",
            "logical-unification              0.4.6                 /usr/local/lib/python3.10/dist-packages pip\n",
            "lxml                             4.9.4                 /usr/local/lib/python3.10/dist-packages pip\n",
            "malloy                           2023.1067             /usr/local/lib/python3.10/dist-packages pip\n",
            "marisa-trie                      1.2.0                 /usr/local/lib/python3.10/dist-packages pip\n",
            "Markdown                         3.6                   /usr/local/lib/python3.10/dist-packages pip\n",
            "markdown-it-py                   3.0.0                 /usr/local/lib/python3.10/dist-packages pip\n",
            "MarkupSafe                       2.1.5                 /usr/local/lib/python3.10/dist-packages pip\n",
            "matplotlib                       3.7.1                 /usr/local/lib/python3.10/dist-packages pip\n",
            "matplotlib-inline                0.1.7                 /usr/local/lib/python3.10/dist-packages pip\n",
            "matplotlib-venn                  0.11.10               /usr/local/lib/python3.10/dist-packages pip\n",
            "mdit-py-plugins                  0.4.1                 /usr/local/lib/python3.10/dist-packages pip\n",
            "mdurl                            0.1.2                 /usr/local/lib/python3.10/dist-packages pip\n",
            "miniKanren                       1.0.3                 /usr/local/lib/python3.10/dist-packages pip\n",
            "missingno                        0.5.2                 /usr/local/lib/python3.10/dist-packages pip\n",
            "mistune                          0.8.4                 /usr/local/lib/python3.10/dist-packages pip\n",
            "mizani                           0.9.3                 /usr/local/lib/python3.10/dist-packages pip\n",
            "mkl                              2023.2.0              /usr/local/lib/python3.10/dist-packages pip\n",
            "ml-dtypes                        0.2.0                 /usr/local/lib/python3.10/dist-packages pip\n",
            "mlxtend                          0.22.0                /usr/local/lib/python3.10/dist-packages pip\n",
            "more-itertools                   10.1.0                /usr/local/lib/python3.10/dist-packages pip\n",
            "moviepy                          1.0.3                 /usr/local/lib/python3.10/dist-packages pip\n",
            "mpmath                           1.3.0                 /usr/local/lib/python3.10/dist-packages pip\n",
            "msgpack                          1.0.8                 /usr/local/lib/python3.10/dist-packages pip\n",
            "multidict                        6.0.5                 /usr/local/lib/python3.10/dist-packages pip\n",
            "multipledispatch                 1.0.0                 /usr/local/lib/python3.10/dist-packages pip\n",
            "multitasking                     0.0.11                /usr/local/lib/python3.10/dist-packages pip\n",
            "murmurhash                       1.0.10                /usr/local/lib/python3.10/dist-packages pip\n",
            "music21                          9.1.0                 /usr/local/lib/python3.10/dist-packages pip\n",
            "natsort                          8.4.0                 /usr/local/lib/python3.10/dist-packages pip\n",
            "nbclassic                        1.1.0                 /usr/local/lib/python3.10/dist-packages pip\n",
            "nbclient                         0.10.0                /usr/local/lib/python3.10/dist-packages pip\n",
            "nbconvert                        6.5.4                 /usr/local/lib/python3.10/dist-packages pip\n",
            "nbformat                         5.10.4                /usr/local/lib/python3.10/dist-packages pip\n",
            "nest-asyncio                     1.6.0                 /usr/local/lib/python3.10/dist-packages pip\n",
            "networkx                         3.3                   /usr/local/lib/python3.10/dist-packages pip\n",
            "nibabel                          4.0.2                 /usr/local/lib/python3.10/dist-packages pip\n",
            "nltk                             3.8.1                 /usr/local/lib/python3.10/dist-packages pip\n",
            "notebook                         6.5.5                 /usr/local/lib/python3.10/dist-packages pip\n",
            "notebook_shim                    0.2.4                 /usr/local/lib/python3.10/dist-packages pip\n",
            "numba                            0.58.1                /usr/local/lib/python3.10/dist-packages pip\n",
            "numexpr                          2.10.1                /usr/local/lib/python3.10/dist-packages pip\n",
            "numpy                            1.25.2                /usr/local/lib/python3.10/dist-packages pip\n",
            "nvtx                             0.2.10                /usr/local/lib/python3.10/dist-packages pip\n",
            "oauth2client                     4.1.3                 /usr/local/lib/python3.10/dist-packages pip\n",
            "oauthlib                         3.2.2                 /usr/local/lib/python3.10/dist-packages pip\n",
            "opencv-contrib-python            4.8.0.76              /usr/local/lib/python3.10/dist-packages pip\n",
            "opencv-python                    4.8.0.76              /usr/local/lib/python3.10/dist-packages pip\n",
            "opencv-python-headless           4.10.0.84             /usr/local/lib/python3.10/dist-packages pip\n",
            "openpyxl                         3.1.4                 /usr/local/lib/python3.10/dist-packages pip\n",
            "opt-einsum                       3.3.0                 /usr/local/lib/python3.10/dist-packages pip\n",
            "optax                            0.2.2                 /usr/local/lib/python3.10/dist-packages pip\n",
            "orbax-checkpoint                 0.4.4                 /usr/local/lib/python3.10/dist-packages pip\n",
            "osqp                             0.6.2.post8           /usr/local/lib/python3.10/dist-packages pip\n",
            "packaging                        24.1                  /usr/local/lib/python3.10/dist-packages pip\n",
            "pandas                           2.0.3                 /usr/local/lib/python3.10/dist-packages pip\n",
            "pandas-datareader                0.10.0                /usr/local/lib/python3.10/dist-packages pip\n",
            "pandas-gbq                       0.19.2                /usr/local/lib/python3.10/dist-packages pip\n",
            "pandas-stubs                     2.0.3.230814          /usr/local/lib/python3.10/dist-packages pip\n",
            "pandocfilters                    1.5.1                 /usr/local/lib/python3.10/dist-packages pip\n",
            "panel                            1.3.8                 /usr/local/lib/python3.10/dist-packages pip\n",
            "param                            2.1.1                 /usr/local/lib/python3.10/dist-packages pip\n",
            "parso                            0.8.4                 /usr/local/lib/python3.10/dist-packages pip\n",
            "parsy                            2.1                   /usr/local/lib/python3.10/dist-packages pip\n",
            "partd                            1.4.2                 /usr/local/lib/python3.10/dist-packages pip\n",
            "pathlib                          1.0.1                 /usr/local/lib/python3.10/dist-packages pip\n",
            "patsy                            0.5.6                 /usr/local/lib/python3.10/dist-packages pip\n",
            "peewee                           3.17.5                /usr/local/lib/python3.10/dist-packages pip\n",
            "pexpect                          4.9.0                 /usr/local/lib/python3.10/dist-packages pip\n",
            "pickleshare                      0.7.5                 /usr/local/lib/python3.10/dist-packages pip\n",
            "Pillow                           9.4.0                 /usr/local/lib/python3.10/dist-packages pip\n",
            "pip                              23.1.2                /usr/local/lib/python3.10/dist-packages pip\n",
            "pip-tools                        6.13.0                /usr/local/lib/python3.10/dist-packages pip\n",
            "platformdirs                     4.2.2                 /usr/local/lib/python3.10/dist-packages pip\n",
            "plotly                           5.15.0                /usr/local/lib/python3.10/dist-packages pip\n",
            "plotnine                         0.12.4                /usr/local/lib/python3.10/dist-packages pip\n",
            "pluggy                           1.5.0                 /usr/local/lib/python3.10/dist-packages pip\n",
            "polars                           0.20.2                /usr/local/lib/python3.10/dist-packages pip\n",
            "pooch                            1.8.2                 /usr/local/lib/python3.10/dist-packages pip\n",
            "portpicker                       1.5.2                 /usr/local/lib/python3.10/dist-packages pip\n",
            "prefetch-generator               1.0.3                 /usr/local/lib/python3.10/dist-packages pip\n",
            "preshed                          3.0.9                 /usr/local/lib/python3.10/dist-packages pip\n",
            "prettytable                      3.10.0                /usr/local/lib/python3.10/dist-packages pip\n",
            "proglog                          0.1.10                /usr/local/lib/python3.10/dist-packages pip\n",
            "progressbar2                     4.2.0                 /usr/local/lib/python3.10/dist-packages pip\n",
            "prometheus_client                0.20.0                /usr/local/lib/python3.10/dist-packages pip\n",
            "promise                          2.3                   /usr/local/lib/python3.10/dist-packages pip\n",
            "prompt_toolkit                   3.0.47                /usr/local/lib/python3.10/dist-packages pip\n",
            "prophet                          1.1.5                 /usr/local/lib/python3.10/dist-packages pip\n",
            "proto-plus                       1.24.0                /usr/local/lib/python3.10/dist-packages pip\n",
            "protobuf                         3.20.3                /usr/local/lib/python3.10/dist-packages pip\n",
            "psutil                           5.9.5                 /usr/local/lib/python3.10/dist-packages pip\n",
            "psycopg2                         2.9.9                 /usr/local/lib/python3.10/dist-packages pip\n",
            "ptyprocess                       0.7.0                 /usr/local/lib/python3.10/dist-packages pip\n",
            "py-cpuinfo                       9.0.0                 /usr/local/lib/python3.10/dist-packages pip\n",
            "py4j                             0.10.9.7              /usr/local/lib/python3.10/dist-packages pip\n",
            "pyarrow                          14.0.2                /usr/local/lib/python3.10/dist-packages pip\n",
            "pyarrow-hotfix                   0.6                   /usr/local/lib/python3.10/dist-packages pip\n",
            "pyasn1                           0.6.0                 /usr/local/lib/python3.10/dist-packages pip\n",
            "pyasn1_modules                   0.4.0                 /usr/local/lib/python3.10/dist-packages pip\n",
            "pycocotools                      2.0.8                 /usr/local/lib/python3.10/dist-packages pip\n",
            "pycparser                        2.22                  /usr/local/lib/python3.10/dist-packages pip\n",
            "pydantic                         2.7.4                 /usr/local/lib/python3.10/dist-packages pip\n",
            "pydantic_core                    2.18.4                /usr/local/lib/python3.10/dist-packages pip\n",
            "pydata-google-auth               1.8.2                 /usr/local/lib/python3.10/dist-packages pip\n",
            "pydot                            1.4.2                 /usr/local/lib/python3.10/dist-packages pip\n",
            "pydot-ng                         2.0.0                 /usr/local/lib/python3.10/dist-packages pip\n",
            "pydotplus                        2.0.2                 /usr/local/lib/python3.10/dist-packages pip\n",
            "PyDrive                          1.3.1                 /usr/local/lib/python3.10/dist-packages pip\n",
            "PyDrive2                         1.6.3                 /usr/local/lib/python3.10/dist-packages pip\n",
            "pyerfa                           2.0.1.4               /usr/local/lib/python3.10/dist-packages pip\n",
            "pygame                           2.6.0                 /usr/local/lib/python3.10/dist-packages pip\n",
            "Pygments                         2.16.1                /usr/local/lib/python3.10/dist-packages pip\n",
            "PyGObject                        3.42.1                /usr/lib/python3/dist-packages\n",
            "PyJWT                            2.3.0                 /usr/lib/python3/dist-packages\n",
            "pymc                             5.10.4                /usr/local/lib/python3.10/dist-packages pip\n",
            "pymystem3                        0.2.0                 /usr/local/lib/python3.10/dist-packages pip\n",
            "pynvjitlink-cu12                 0.2.4                 /usr/local/lib/python3.10/dist-packages pip\n",
            "PyOpenGL                         3.1.7                 /usr/local/lib/python3.10/dist-packages pip\n",
            "pyOpenSSL                        24.1.0                /usr/local/lib/python3.10/dist-packages pip\n",
            "pyparsing                        3.1.2                 /usr/local/lib/python3.10/dist-packages pip\n",
            "pyperclip                        1.9.0                 /usr/local/lib/python3.10/dist-packages pip\n",
            "pyproj                           3.6.1                 /usr/local/lib/python3.10/dist-packages pip\n",
            "pyproject_hooks                  1.1.0                 /usr/local/lib/python3.10/dist-packages pip\n",
            "pyshp                            2.3.1                 /usr/local/lib/python3.10/dist-packages pip\n",
            "PySocks                          1.7.1                 /usr/local/lib/python3.10/dist-packages pip\n",
            "pytensor                         2.18.6                /usr/local/lib/python3.10/dist-packages pip\n",
            "pytest                           7.4.4                 /usr/local/lib/python3.10/dist-packages pip\n",
            "python-apt                       0.0.0                 /usr/local/lib/python3.10/dist-packages pip\n",
            "python-box                       7.2.0                 /usr/local/lib/python3.10/dist-packages pip\n",
            "python-dateutil                  2.8.2                 /usr/local/lib/python3.10/dist-packages pip\n",
            "python-louvain                   0.16                  /usr/local/lib/python3.10/dist-packages pip\n",
            "python-slugify                   8.0.4                 /usr/local/lib/python3.10/dist-packages pip\n",
            "python-utils                     3.8.2                 /usr/local/lib/python3.10/dist-packages pip\n",
            "pytz                             2023.4                /usr/local/lib/python3.10/dist-packages pip\n",
            "pyviz_comms                      3.0.2                 /usr/local/lib/python3.10/dist-packages pip\n",
            "PyWavelets                       1.6.0                 /usr/local/lib/python3.10/dist-packages pip\n",
            "PyYAML                           6.0.1                 /usr/local/lib/python3.10/dist-packages pip\n",
            "pyzmq                            24.0.1                /usr/local/lib/python3.10/dist-packages pip\n",
            "qdldl                            0.1.7.post4           /usr/local/lib/python3.10/dist-packages pip\n",
            "qudida                           0.0.4                 /usr/local/lib/python3.10/dist-packages pip\n",
            "ratelim                          0.1.6                 /usr/local/lib/python3.10/dist-packages pip\n",
            "referencing                      0.35.1                /usr/local/lib/python3.10/dist-packages pip\n",
            "regex                            2024.5.15             /usr/local/lib/python3.10/dist-packages pip\n",
            "requests                         2.31.0                /usr/local/lib/python3.10/dist-packages pip\n",
            "requests-oauthlib                1.3.1                 /usr/local/lib/python3.10/dist-packages pip\n",
            "requirements-parser              0.9.0                 /usr/local/lib/python3.10/dist-packages pip\n",
            "rich                             13.7.1                /usr/local/lib/python3.10/dist-packages pip\n",
            "rmm-cu12                         24.4.0                /usr/local/lib/python3.10/dist-packages pip\n",
            "rpds-py                          0.18.1                /usr/local/lib/python3.10/dist-packages pip\n",
            "rpy2                             3.4.2                 /usr/local/lib/python3.10/dist-packages pip\n",
            "rsa                              4.9                   /usr/local/lib/python3.10/dist-packages pip\n",
            "safetensors                      0.4.3                 /usr/local/lib/python3.10/dist-packages pip\n",
            "scikit-image                     0.19.3                /usr/local/lib/python3.10/dist-packages pip\n",
            "scikit-learn                     1.2.2                 /usr/local/lib/python3.10/dist-packages pip\n",
            "scipy                            1.11.4                /usr/local/lib/python3.10/dist-packages pip\n",
            "scooby                           0.10.0                /usr/local/lib/python3.10/dist-packages pip\n",
            "scs                              3.2.5                 /usr/local/lib/python3.10/dist-packages pip\n",
            "seaborn                          0.13.1                /usr/local/lib/python3.10/dist-packages pip\n",
            "SecretStorage                    3.3.1                 /usr/lib/python3/dist-packages\n",
            "Send2Trash                       1.8.3                 /usr/local/lib/python3.10/dist-packages pip\n",
            "sentencepiece                    0.1.99                /usr/local/lib/python3.10/dist-packages pip\n",
            "setuptools                       67.7.2                /usr/local/lib/python3.10/dist-packages pip\n",
            "shapely                          2.0.4                 /usr/local/lib/python3.10/dist-packages pip\n",
            "shellingham                      1.5.4                 /usr/local/lib/python3.10/dist-packages pip\n",
            "simple_parsing                   0.1.5                 /usr/local/lib/python3.10/dist-packages pip\n",
            "six                              1.16.0                /usr/local/lib/python3.10/dist-packages pip\n",
            "sklearn-pandas                   2.2.0                 /usr/local/lib/python3.10/dist-packages pip\n",
            "smart-open                       7.0.4                 /usr/local/lib/python3.10/dist-packages pip\n",
            "sniffio                          1.3.1                 /usr/local/lib/python3.10/dist-packages pip\n",
            "snowballstemmer                  2.2.0                 /usr/local/lib/python3.10/dist-packages pip\n",
            "sortedcontainers                 2.4.0                 /usr/local/lib/python3.10/dist-packages pip\n",
            "soundfile                        0.12.1                /usr/local/lib/python3.10/dist-packages pip\n",
            "soupsieve                        2.5                   /usr/local/lib/python3.10/dist-packages pip\n",
            "soxr                             0.3.7                 /usr/local/lib/python3.10/dist-packages pip\n",
            "spacy                            3.7.5                 /usr/local/lib/python3.10/dist-packages pip\n",
            "spacy-legacy                     3.0.12                /usr/local/lib/python3.10/dist-packages pip\n",
            "spacy-loggers                    1.0.5                 /usr/local/lib/python3.10/dist-packages pip\n",
            "Sphinx                           5.0.2                 /usr/local/lib/python3.10/dist-packages pip\n",
            "sphinxcontrib-applehelp          1.0.8                 /usr/local/lib/python3.10/dist-packages pip\n",
            "sphinxcontrib-devhelp            1.0.6                 /usr/local/lib/python3.10/dist-packages pip\n",
            "sphinxcontrib-htmlhelp           2.0.5                 /usr/local/lib/python3.10/dist-packages pip\n",
            "sphinxcontrib-jsmath             1.0.1                 /usr/local/lib/python3.10/dist-packages pip\n",
            "sphinxcontrib-qthelp             1.0.7                 /usr/local/lib/python3.10/dist-packages pip\n",
            "sphinxcontrib-serializinghtml    1.1.10                /usr/local/lib/python3.10/dist-packages pip\n",
            "SQLAlchemy                       2.0.31                /usr/local/lib/python3.10/dist-packages pip\n",
            "sqlglot                          20.11.0               /usr/local/lib/python3.10/dist-packages pip\n",
            "sqlparse                         0.5.0                 /usr/local/lib/python3.10/dist-packages pip\n",
            "srsly                            2.4.8                 /usr/local/lib/python3.10/dist-packages pip\n",
            "stanio                           0.5.0                 /usr/local/lib/python3.10/dist-packages pip\n",
            "statsmodels                      0.14.2                /usr/local/lib/python3.10/dist-packages pip\n",
            "StrEnum                          0.4.15                /usr/local/lib/python3.10/dist-packages pip\n",
            "sympy                            1.12.1                /usr/local/lib/python3.10/dist-packages pip\n",
            "tables                           3.8.0                 /usr/local/lib/python3.10/dist-packages pip\n",
            "tabulate                         0.9.0                 /usr/local/lib/python3.10/dist-packages pip\n",
            "tbb                              2021.13.0             /usr/local/lib/python3.10/dist-packages pip\n",
            "tblib                            3.0.0                 /usr/local/lib/python3.10/dist-packages pip\n",
            "tenacity                         8.4.2                 /usr/local/lib/python3.10/dist-packages pip\n",
            "tensorboard                      2.15.2                /usr/local/lib/python3.10/dist-packages pip\n",
            "tensorboard-data-server          0.7.2                 /usr/local/lib/python3.10/dist-packages pip\n",
            "tensorflow                       2.15.0                /usr/local/lib/python3.10/dist-packages pip\n",
            "tensorflow-datasets              4.9.6                 /usr/local/lib/python3.10/dist-packages pip\n",
            "tensorflow-estimator             2.15.0                /usr/local/lib/python3.10/dist-packages pip\n",
            "tensorflow-gcs-config            2.15.0                /usr/local/lib/python3.10/dist-packages pip\n",
            "tensorflow-hub                   0.16.1                /usr/local/lib/python3.10/dist-packages pip\n",
            "tensorflow-io-gcs-filesystem     0.37.0                /usr/local/lib/python3.10/dist-packages pip\n",
            "tensorflow-metadata              1.15.0                /usr/local/lib/python3.10/dist-packages pip\n",
            "tensorflow-probability           0.23.0                /usr/local/lib/python3.10/dist-packages pip\n",
            "tensorstore                      0.1.45                /usr/local/lib/python3.10/dist-packages pip\n",
            "termcolor                        2.4.0                 /usr/local/lib/python3.10/dist-packages pip\n",
            "terminado                        0.18.1                /usr/local/lib/python3.10/dist-packages pip\n",
            "text-unidecode                   1.3                   /usr/local/lib/python3.10/dist-packages pip\n",
            "textblob                         0.17.1                /usr/local/lib/python3.10/dist-packages pip\n",
            "tf_keras                         2.15.1                /usr/local/lib/python3.10/dist-packages pip\n",
            "tf-slim                          1.1.0                 /usr/local/lib/python3.10/dist-packages pip\n",
            "thinc                            8.2.5                 /usr/local/lib/python3.10/dist-packages pip\n",
            "threadpoolctl                    3.5.0                 /usr/local/lib/python3.10/dist-packages pip\n",
            "tifffile                         2024.6.18             /usr/local/lib/python3.10/dist-packages pip\n",
            "tinycss2                         1.3.0                 /usr/local/lib/python3.10/dist-packages pip\n",
            "tokenizers                       0.19.1                /usr/local/lib/python3.10/dist-packages pip\n",
            "toml                             0.10.2                /usr/local/lib/python3.10/dist-packages pip\n",
            "tomli                            2.0.1                 /usr/local/lib/python3.10/dist-packages pip\n",
            "toolz                            0.12.1                /usr/local/lib/python3.10/dist-packages pip\n",
            "torch                            2.3.0+cu121           /usr/local/lib/python3.10/dist-packages pip\n",
            "torchaudio                       2.3.0+cu121           /usr/local/lib/python3.10/dist-packages pip\n",
            "torchsummary                     1.5.1                 /usr/local/lib/python3.10/dist-packages pip\n",
            "torchtext                        0.18.0                /usr/local/lib/python3.10/dist-packages pip\n",
            "torchvision                      0.18.0+cu121          /usr/local/lib/python3.10/dist-packages pip\n",
            "tornado                          6.3.3                 /usr/local/lib/python3.10/dist-packages pip\n",
            "tqdm                             4.66.4                /usr/local/lib/python3.10/dist-packages pip\n",
            "traitlets                        5.7.1                 /usr/local/lib/python3.10/dist-packages pip\n",
            "traittypes                       0.2.1                 /usr/local/lib/python3.10/dist-packages pip\n",
            "transformers                     4.41.2                /usr/local/lib/python3.10/dist-packages pip\n",
            "triton                           2.3.0                 /usr/local/lib/python3.10/dist-packages pip\n",
            "tweepy                           4.14.0                /usr/local/lib/python3.10/dist-packages pip\n",
            "typer                            0.12.3                /usr/local/lib/python3.10/dist-packages pip\n",
            "types-pytz                       2024.1.0.20240417     /usr/local/lib/python3.10/dist-packages pip\n",
            "types-setuptools                 70.1.0.20240627       /usr/local/lib/python3.10/dist-packages pip\n",
            "typing_extensions                4.12.2                /usr/local/lib/python3.10/dist-packages pip\n",
            "tzdata                           2024.1                /usr/local/lib/python3.10/dist-packages pip\n",
            "tzlocal                          5.2                   /usr/local/lib/python3.10/dist-packages pip\n",
            "uc-micro-py                      1.0.3                 /usr/local/lib/python3.10/dist-packages pip\n",
            "uritemplate                      4.1.1                 /usr/local/lib/python3.10/dist-packages pip\n",
            "urllib3                          2.0.7                 /usr/local/lib/python3.10/dist-packages pip\n",
            "vega-datasets                    0.9.0                 /usr/local/lib/python3.10/dist-packages pip\n",
            "wadllib                          1.3.6                 /usr/lib/python3/dist-packages\n",
            "wasabi                           1.1.3                 /usr/local/lib/python3.10/dist-packages pip\n",
            "wcwidth                          0.2.13                /usr/local/lib/python3.10/dist-packages pip\n",
            "weasel                           0.4.1                 /usr/local/lib/python3.10/dist-packages pip\n",
            "webcolors                        24.6.0                /usr/local/lib/python3.10/dist-packages pip\n",
            "webencodings                     0.5.1                 /usr/local/lib/python3.10/dist-packages pip\n",
            "websocket-client                 1.8.0                 /usr/local/lib/python3.10/dist-packages pip\n",
            "Werkzeug                         3.0.3                 /usr/local/lib/python3.10/dist-packages pip\n",
            "wheel                            0.43.0                /usr/local/lib/python3.10/dist-packages pip\n",
            "widgetsnbextension               3.6.6                 /usr/local/lib/python3.10/dist-packages pip\n",
            "wordcloud                        1.9.3                 /usr/local/lib/python3.10/dist-packages pip\n",
            "wrapt                            1.14.1                /usr/local/lib/python3.10/dist-packages pip\n",
            "xarray                           2023.7.0              /usr/local/lib/python3.10/dist-packages pip\n",
            "xarray-einstats                  0.7.0                 /usr/local/lib/python3.10/dist-packages pip\n",
            "xgboost                          2.0.3                 /usr/local/lib/python3.10/dist-packages pip\n",
            "xlrd                             2.0.1                 /usr/local/lib/python3.10/dist-packages pip\n",
            "xyzservices                      2024.6.0              /usr/local/lib/python3.10/dist-packages pip\n",
            "yarl                             1.9.4                 /usr/local/lib/python3.10/dist-packages pip\n",
            "yellowbrick                      1.5                   /usr/local/lib/python3.10/dist-packages pip\n",
            "yfinance                         0.2.40                /usr/local/lib/python3.10/dist-packages pip\n",
            "zict                             3.0.0                 /usr/local/lib/python3.10/dist-packages pip\n",
            "zipp                             3.19.2                /usr/local/lib/python3.10/dist-packages pip\n"
          ]
        }
      ]
    },
    {
      "cell_type": "code",
      "source": [
        "!pip list -v| grep numpy"
      ],
      "metadata": {
        "colab": {
          "base_uri": "https://localhost:8080/"
        },
        "id": "PJDfINGOU-f4",
        "outputId": "75e5093e-df35-482e-d473-7d4bec018468"
      },
      "execution_count": 7,
      "outputs": [
        {
          "output_type": "stream",
          "name": "stdout",
          "text": [
            "numpy                            1.25.2                /usr/local/lib/python3.10/dist-packages pip\n"
          ]
        }
      ]
    },
    {
      "cell_type": "code",
      "source": [
        "!pip list -v| grep transorflow"
      ],
      "metadata": {
        "id": "vKd74FybVRoD"
      },
      "execution_count": 9,
      "outputs": []
    },
    {
      "cell_type": "code",
      "source": [
        "!python --version"
      ],
      "metadata": {
        "colab": {
          "base_uri": "https://localhost:8080/"
        },
        "id": "btexUc80Vhfr",
        "outputId": "ceecd10d-c4d0-4270-89aa-f11aafd6b46a"
      },
      "execution_count": 10,
      "outputs": [
        {
          "output_type": "stream",
          "name": "stdout",
          "text": [
            "Python 3.10.12\n"
          ]
        }
      ]
    },
    {
      "cell_type": "code",
      "source": [
        "!pip install advertools"
      ],
      "metadata": {
        "colab": {
          "base_uri": "https://localhost:8080/"
        },
        "id": "PAaow_JcVvJI",
        "outputId": "1bc62280-eb3b-426b-a392-778d4e894b29"
      },
      "execution_count": 11,
      "outputs": [
        {
          "output_type": "stream",
          "name": "stdout",
          "text": [
            "Collecting advertools\n",
            "  Downloading advertools-0.14.3-py2.py3-none-any.whl (326 kB)\n",
            "\u001b[2K     \u001b[90m━━━━━━━━━━━━━━━━━━━━━━━━━━━━━━━━━━━━━━━━\u001b[0m \u001b[32m326.3/326.3 kB\u001b[0m \u001b[31m9.7 MB/s\u001b[0m eta \u001b[36m0:00:00\u001b[0m\n",
            "\u001b[?25hRequirement already satisfied: pandas>=1.1.0 in /usr/local/lib/python3.10/dist-packages (from advertools) (2.0.3)\n",
            "Requirement already satisfied: pyasn1>=0.4 in /usr/local/lib/python3.10/dist-packages (from advertools) (0.6.0)\n",
            "Collecting scrapy>=2.5.0 (from advertools)\n",
            "  Downloading Scrapy-2.11.2-py2.py3-none-any.whl (290 kB)\n",
            "\u001b[2K     \u001b[90m━━━━━━━━━━━━━━━━━━━━━━━━━━━━━━━━━━━━━━━━\u001b[0m \u001b[32m290.1/290.1 kB\u001b[0m \u001b[31m23.4 MB/s\u001b[0m eta \u001b[36m0:00:00\u001b[0m\n",
            "\u001b[?25hCollecting twython>=3.8.0 (from advertools)\n",
            "  Downloading twython-3.9.1-py3-none-any.whl (33 kB)\n",
            "Requirement already satisfied: pyarrow>=5.0.0 in /usr/local/lib/python3.10/dist-packages (from advertools) (14.0.2)\n",
            "Requirement already satisfied: python-dateutil>=2.8.2 in /usr/local/lib/python3.10/dist-packages (from pandas>=1.1.0->advertools) (2.8.2)\n",
            "Requirement already satisfied: pytz>=2020.1 in /usr/local/lib/python3.10/dist-packages (from pandas>=1.1.0->advertools) (2023.4)\n",
            "Requirement already satisfied: tzdata>=2022.1 in /usr/local/lib/python3.10/dist-packages (from pandas>=1.1.0->advertools) (2024.1)\n",
            "Requirement already satisfied: numpy>=1.21.0 in /usr/local/lib/python3.10/dist-packages (from pandas>=1.1.0->advertools) (1.25.2)\n",
            "Collecting Twisted>=18.9.0 (from scrapy>=2.5.0->advertools)\n",
            "  Downloading twisted-24.3.0-py3-none-any.whl (3.2 MB)\n",
            "\u001b[2K     \u001b[90m━━━━━━━━━━━━━━━━━━━━━━━━━━━━━━━━━━━━━━━━\u001b[0m \u001b[32m3.2/3.2 MB\u001b[0m \u001b[31m56.9 MB/s\u001b[0m eta \u001b[36m0:00:00\u001b[0m\n",
            "\u001b[?25hRequirement already satisfied: cryptography>=36.0.0 in /usr/local/lib/python3.10/dist-packages (from scrapy>=2.5.0->advertools) (42.0.8)\n",
            "Collecting cssselect>=0.9.1 (from scrapy>=2.5.0->advertools)\n",
            "  Downloading cssselect-1.2.0-py2.py3-none-any.whl (18 kB)\n",
            "Collecting itemloaders>=1.0.1 (from scrapy>=2.5.0->advertools)\n",
            "  Downloading itemloaders-1.3.1-py3-none-any.whl (12 kB)\n",
            "Collecting parsel>=1.5.0 (from scrapy>=2.5.0->advertools)\n",
            "  Downloading parsel-1.9.1-py2.py3-none-any.whl (17 kB)\n",
            "Requirement already satisfied: pyOpenSSL>=21.0.0 in /usr/local/lib/python3.10/dist-packages (from scrapy>=2.5.0->advertools) (24.1.0)\n",
            "Collecting queuelib>=1.4.2 (from scrapy>=2.5.0->advertools)\n",
            "  Downloading queuelib-1.7.0-py2.py3-none-any.whl (13 kB)\n",
            "Collecting service-identity>=18.1.0 (from scrapy>=2.5.0->advertools)\n",
            "  Downloading service_identity-24.1.0-py3-none-any.whl (12 kB)\n",
            "Collecting w3lib>=1.17.0 (from scrapy>=2.5.0->advertools)\n",
            "  Downloading w3lib-2.2.1-py3-none-any.whl (21 kB)\n",
            "Collecting zope.interface>=5.1.0 (from scrapy>=2.5.0->advertools)\n",
            "  Downloading zope.interface-6.4.post2-cp310-cp310-manylinux_2_5_x86_64.manylinux1_x86_64.manylinux_2_17_x86_64.manylinux2014_x86_64.whl (247 kB)\n",
            "\u001b[2K     \u001b[90m━━━━━━━━━━━━━━━━━━━━━━━━━━━━━━━━━━━━━━━━\u001b[0m \u001b[32m247.8/247.8 kB\u001b[0m \u001b[31m15.0 MB/s\u001b[0m eta \u001b[36m0:00:00\u001b[0m\n",
            "\u001b[?25hCollecting protego>=0.1.15 (from scrapy>=2.5.0->advertools)\n",
            "  Downloading Protego-0.3.1-py2.py3-none-any.whl (8.5 kB)\n",
            "Collecting itemadapter>=0.1.0 (from scrapy>=2.5.0->advertools)\n",
            "  Downloading itemadapter-0.9.0-py3-none-any.whl (11 kB)\n",
            "Requirement already satisfied: setuptools in /usr/local/lib/python3.10/dist-packages (from scrapy>=2.5.0->advertools) (67.7.2)\n",
            "Requirement already satisfied: packaging in /usr/local/lib/python3.10/dist-packages (from scrapy>=2.5.0->advertools) (24.1)\n",
            "Collecting tldextract (from scrapy>=2.5.0->advertools)\n",
            "  Downloading tldextract-5.1.2-py3-none-any.whl (97 kB)\n",
            "\u001b[2K     \u001b[90m━━━━━━━━━━━━━━━━━━━━━━━━━━━━━━━━━━━━━━━━\u001b[0m \u001b[32m97.6/97.6 kB\u001b[0m \u001b[31m9.5 MB/s\u001b[0m eta \u001b[36m0:00:00\u001b[0m\n",
            "\u001b[?25hRequirement already satisfied: lxml>=4.4.1 in /usr/local/lib/python3.10/dist-packages (from scrapy>=2.5.0->advertools) (4.9.4)\n",
            "Requirement already satisfied: defusedxml>=0.7.1 in /usr/local/lib/python3.10/dist-packages (from scrapy>=2.5.0->advertools) (0.7.1)\n",
            "Collecting PyDispatcher>=2.0.5 (from scrapy>=2.5.0->advertools)\n",
            "  Downloading PyDispatcher-2.0.7-py3-none-any.whl (12 kB)\n",
            "Requirement already satisfied: requests>=2.1.0 in /usr/local/lib/python3.10/dist-packages (from twython>=3.8.0->advertools) (2.31.0)\n",
            "Requirement already satisfied: requests-oauthlib>=0.4.0 in /usr/local/lib/python3.10/dist-packages (from twython>=3.8.0->advertools) (1.3.1)\n",
            "Requirement already satisfied: cffi>=1.12 in /usr/local/lib/python3.10/dist-packages (from cryptography>=36.0.0->scrapy>=2.5.0->advertools) (1.16.0)\n",
            "Collecting jmespath>=0.9.5 (from itemloaders>=1.0.1->scrapy>=2.5.0->advertools)\n",
            "  Downloading jmespath-1.0.1-py3-none-any.whl (20 kB)\n",
            "Requirement already satisfied: six>=1.5 in /usr/local/lib/python3.10/dist-packages (from python-dateutil>=2.8.2->pandas>=1.1.0->advertools) (1.16.0)\n",
            "Requirement already satisfied: charset-normalizer<4,>=2 in /usr/local/lib/python3.10/dist-packages (from requests>=2.1.0->twython>=3.8.0->advertools) (3.3.2)\n",
            "Requirement already satisfied: idna<4,>=2.5 in /usr/local/lib/python3.10/dist-packages (from requests>=2.1.0->twython>=3.8.0->advertools) (3.7)\n",
            "Requirement already satisfied: urllib3<3,>=1.21.1 in /usr/local/lib/python3.10/dist-packages (from requests>=2.1.0->twython>=3.8.0->advertools) (2.0.7)\n",
            "Requirement already satisfied: certifi>=2017.4.17 in /usr/local/lib/python3.10/dist-packages (from requests>=2.1.0->twython>=3.8.0->advertools) (2024.6.2)\n",
            "Requirement already satisfied: oauthlib>=3.0.0 in /usr/local/lib/python3.10/dist-packages (from requests-oauthlib>=0.4.0->twython>=3.8.0->advertools) (3.2.2)\n",
            "Requirement already satisfied: attrs>=19.1.0 in /usr/local/lib/python3.10/dist-packages (from service-identity>=18.1.0->scrapy>=2.5.0->advertools) (23.2.0)\n",
            "Requirement already satisfied: pyasn1-modules in /usr/local/lib/python3.10/dist-packages (from service-identity>=18.1.0->scrapy>=2.5.0->advertools) (0.4.0)\n",
            "Collecting automat>=0.8.0 (from Twisted>=18.9.0->scrapy>=2.5.0->advertools)\n",
            "  Downloading Automat-22.10.0-py2.py3-none-any.whl (26 kB)\n",
            "Collecting constantly>=15.1 (from Twisted>=18.9.0->scrapy>=2.5.0->advertools)\n",
            "  Downloading constantly-23.10.4-py3-none-any.whl (13 kB)\n",
            "Collecting hyperlink>=17.1.1 (from Twisted>=18.9.0->scrapy>=2.5.0->advertools)\n",
            "  Downloading hyperlink-21.0.0-py2.py3-none-any.whl (74 kB)\n",
            "\u001b[2K     \u001b[90m━━━━━━━━━━━━━━━━━━━━━━━━━━━━━━━━━━━━━━━━\u001b[0m \u001b[32m74.6/74.6 kB\u001b[0m \u001b[31m8.9 MB/s\u001b[0m eta \u001b[36m0:00:00\u001b[0m\n",
            "\u001b[?25hCollecting incremental>=22.10.0 (from Twisted>=18.9.0->scrapy>=2.5.0->advertools)\n",
            "  Downloading incremental-22.10.0-py2.py3-none-any.whl (16 kB)\n",
            "Requirement already satisfied: typing-extensions>=4.2.0 in /usr/local/lib/python3.10/dist-packages (from Twisted>=18.9.0->scrapy>=2.5.0->advertools) (4.12.2)\n",
            "Collecting requests-file>=1.4 (from tldextract->scrapy>=2.5.0->advertools)\n",
            "  Downloading requests_file-2.1.0-py2.py3-none-any.whl (4.2 kB)\n",
            "Requirement already satisfied: filelock>=3.0.8 in /usr/local/lib/python3.10/dist-packages (from tldextract->scrapy>=2.5.0->advertools) (3.15.4)\n",
            "Requirement already satisfied: pycparser in /usr/local/lib/python3.10/dist-packages (from cffi>=1.12->cryptography>=36.0.0->scrapy>=2.5.0->advertools) (2.22)\n",
            "Installing collected packages: PyDispatcher, incremental, zope.interface, w3lib, queuelib, protego, jmespath, itemadapter, hyperlink, cssselect, constantly, automat, Twisted, requests-file, parsel, twython, tldextract, service-identity, itemloaders, scrapy, advertools\n",
            "Successfully installed PyDispatcher-2.0.7 Twisted-24.3.0 advertools-0.14.3 automat-22.10.0 constantly-23.10.4 cssselect-1.2.0 hyperlink-21.0.0 incremental-22.10.0 itemadapter-0.9.0 itemloaders-1.3.1 jmespath-1.0.1 parsel-1.9.1 protego-0.3.1 queuelib-1.7.0 requests-file-2.1.0 scrapy-2.11.2 service-identity-24.1.0 tldextract-5.1.2 twython-3.9.1 w3lib-2.2.1 zope.interface-6.4.post2\n"
          ]
        }
      ]
    },
    {
      "cell_type": "code",
      "source": [
        "import advertools"
      ],
      "metadata": {
        "id": "he3IDHR0V7zq"
      },
      "execution_count": 12,
      "outputs": []
    },
    {
      "cell_type": "code",
      "source": [
        "def square(a):\n",
        "  print(a**2)\n",
        "a= int(input(\"enter the value of a-\"))\n",
        "c=square(a)\n",
        "\n"
      ],
      "metadata": {
        "colab": {
          "base_uri": "https://localhost:8080/"
        },
        "id": "xsi-tZxVWQbV",
        "outputId": "1448c9d1-2de7-4020-894f-5aa34896753f"
      },
      "execution_count": 31,
      "outputs": [
        {
          "output_type": "stream",
          "name": "stdout",
          "text": [
            "enter the value of a-5\n",
            "25\n"
          ]
        }
      ]
    },
    {
      "cell_type": "code",
      "source": [
        "# Simple Function\n",
        "def add_numbers(a, b):\n",
        "  \"\"\"Function to add two numbers\"\"\"\n",
        "  return a + b\n",
        "\n",
        "# calling the function\n",
        "print(add_numbers(3, 4))"
      ],
      "metadata": {
        "colab": {
          "base_uri": "https://localhost:8080/"
        },
        "id": "-N11QbOWWio6",
        "outputId": "f693bbd9-8c14-415f-f0f4-f080bde1324c"
      },
      "execution_count": 38,
      "outputs": [
        {
          "output_type": "stream",
          "name": "stdout",
          "text": [
            "7\n"
          ]
        }
      ]
    },
    {
      "cell_type": "code",
      "source": [
        "# Function with Default Arguments\n",
        "def greet(name, greeting=\"Hello\"):\n",
        "  \"\"\"Function to greet a person with a default message\"\"\"\n",
        "  return f\"{greeting}, {name}!\"\n",
        "\n",
        "#calling the function\n",
        "print(greet(\"Bob\"))\n",
        "print (greet(\"Alice\", \"hi\"))\n"
      ],
      "metadata": {
        "colab": {
          "base_uri": "https://localhost:8080/"
        },
        "id": "vgnppXTCWe2c",
        "outputId": "e7138c4a-0e70-40a8-bff5-9220b95235e4"
      },
      "execution_count": 37,
      "outputs": [
        {
          "output_type": "stream",
          "name": "stdout",
          "text": [
            "Hello, Bob!\n",
            "hi, Alice!\n"
          ]
        }
      ]
    },
    {
      "cell_type": "code",
      "source": [
        "# Function with variables-lenght Arguments\n",
        "def sum_all(*args):\n",
        "  \"\"\"Function to sum all given arguments\"\"\"\n",
        "\n",
        "  return sum(args)\n",
        "\n",
        "#calling the function\n",
        "print(sum_all(1, 2, 3, 4, 5))"
      ],
      "metadata": {
        "colab": {
          "base_uri": "https://localhost:8080/"
        },
        "id": "CPK0el3cZTd8",
        "outputId": "447588d9-c25a-4ee1-d4b5-fec3f4f07131"
      },
      "execution_count": 35,
      "outputs": [
        {
          "output_type": "stream",
          "name": "stdout",
          "text": [
            "15\n"
          ]
        }
      ]
    },
    {
      "cell_type": "code",
      "source": [
        "# Function with keyword Arguments\n",
        "def display_info(**kwargs):\n",
        "  \"\"\"Function to display information using key word arguments\"\"\"\n",
        "\n",
        "  for key, value in kwargs.items():\n",
        "    print(f\"{key}: {value}\")\n",
        "\n",
        " # calling the function\n",
        "display_info(name=\"Alice\", age=30, city=\"New York\")"
      ],
      "metadata": {
        "colab": {
          "base_uri": "https://localhost:8080/"
        },
        "id": "IzJph6LSaZOL",
        "outputId": "97cf2313-f334-4b18-a806-6bd69d6135ce"
      },
      "execution_count": 33,
      "outputs": [
        {
          "output_type": "stream",
          "name": "stdout",
          "text": [
            "name: Alice\n",
            "age: 30\n",
            "city: New York\n"
          ]
        }
      ]
    },
    {
      "cell_type": "code",
      "source": [
        "# Higher-Order Function\n",
        "def apply_function(func, x, y):\n",
        "  \"\"\"Function to apply a given function to two arguments\"\"\"\n",
        "  return func(x, y)\n",
        "\n",
        "def multiply(a, b):\n",
        "  return a * b\n",
        "\n",
        "  #calling the higher-order function\n",
        "print(apply_function(multiply, 6, 7))"
      ],
      "metadata": {
        "colab": {
          "base_uri": "https://localhost:8080/"
        },
        "id": "Gu-E7ejBg0bY",
        "outputId": "a23a1269-0514-4388-a4f8-34bc77215120"
      },
      "execution_count": 39,
      "outputs": [
        {
          "output_type": "stream",
          "name": "stdout",
          "text": [
            "42\n"
          ]
        }
      ]
    },
    {
      "cell_type": "code",
      "source": [],
      "metadata": {
        "id": "aRlSWusPj6xM"
      },
      "execution_count": null,
      "outputs": []
    },
    {
      "cell_type": "markdown",
      "source": [
        "Lambda Expressions"
      ],
      "metadata": {
        "id": "2dIw8CuukRxk"
      }
    },
    {
      "cell_type": "code",
      "source": [
        "\n",
        "# Simple Lambda Function\n",
        "square = lambda x: x * x\n",
        "\n",
        "#calling the lambda function\n",
        "print(square(5))"
      ],
      "metadata": {
        "colab": {
          "base_uri": "https://localhost:8080/"
        },
        "id": "PGXKVb60kW7n",
        "outputId": "dd5d1bff-308e-41be-ac75-8c40e1b3fd52"
      },
      "execution_count": 41,
      "outputs": [
        {
          "output_type": "stream",
          "name": "stdout",
          "text": [
            "25\n"
          ]
        }
      ]
    },
    {
      "cell_type": "code",
      "source": [
        "# Lambda Function in 'filter'\n",
        "numbers = [1, 2, 3, 4, 5, 6]\n",
        "even_numbers = list(filter(lambda x: x % 2 == 0, numbers))\n",
        "\n",
        "#calling the lambda function\n",
        "print(even_numbers)"
      ],
      "metadata": {
        "colab": {
          "base_uri": "https://localhost:8080/"
        },
        "id": "AeyR3mGuk3HT",
        "outputId": "78e4a985-ccc0-4aaa-80f6-690ae6859fd6"
      },
      "execution_count": 42,
      "outputs": [
        {
          "output_type": "stream",
          "name": "stdout",
          "text": [
            "[2, 4, 6]\n"
          ]
        }
      ]
    },
    {
      "cell_type": "code",
      "source": [
        "#lambda function in 'sorted'\n",
        "student = [(\"Alice\", \"25\"), (\"Bob\", \"20\"), (\"Charlie\", \"23\")]\n",
        "sorted_student = sorted(student, key=lambda student: student[1])\n",
        "\n",
        "#displaying the result\n",
        "print(sorted_student)"
      ],
      "metadata": {
        "colab": {
          "base_uri": "https://localhost:8080/"
        },
        "id": "SZ1lCoD1lIfk",
        "outputId": "2827db05-694d-41ec-c08b-e269fe21d7bb"
      },
      "execution_count": 43,
      "outputs": [
        {
          "output_type": "stream",
          "name": "stdout",
          "text": [
            "[('Bob', '20'), ('Charlie', '23'), ('Alice', '25')]\n"
          ]
        }
      ]
    },
    {
      "cell_type": "markdown",
      "source": [
        "Error Handling"
      ],
      "metadata": {
        "id": "PnuciUM4mRfk"
      }
    },
    {
      "cell_type": "code",
      "source": [
        "# Basic try-Except Block\n",
        "try:\n",
        "  # code that may raise an exception\n",
        "  result = 10 / 0\n",
        "except ZeroDivisionError:\n",
        "  # code to handle the exception\n",
        "  print(\"Cannot divide by zero.\")\n",
        "\n",
        "\n"
      ],
      "metadata": {
        "colab": {
          "base_uri": "https://localhost:8080/"
        },
        "id": "Lks020IPmWEr",
        "outputId": "dc410ad0-3bb7-49cc-90fa-042d2b4b420a"
      },
      "execution_count": 45,
      "outputs": [
        {
          "output_type": "stream",
          "name": "stdout",
          "text": [
            "Cannot divide by zero.\n"
          ]
        }
      ]
    },
    {
      "cell_type": "code",
      "source": [
        "# Try-Except-Else Block\n",
        "try:\n",
        "  # code that may raise an exception\n",
        "  result= 10 / 2\n",
        "except ZeroDivisionError:\n",
        "  # code to handle the exception\n",
        "  print(\"Cannot divide by zero.\")\n",
        "else:\n",
        "  # code to run if no exception occurs\n",
        "  print(\"Division successfull\")"
      ],
      "metadata": {
        "colab": {
          "base_uri": "https://localhost:8080/"
        },
        "id": "kEtcbtQ4nlDD",
        "outputId": "c22464d8-fad6-43c1-8331-afda5b913a96"
      },
      "execution_count": 46,
      "outputs": [
        {
          "output_type": "stream",
          "name": "stdout",
          "text": [
            "Division successfull\n"
          ]
        }
      ]
    },
    {
      "cell_type": "code",
      "source": [
        "# Try-Except-Else Block\n",
        "try:\n",
        "  # code that may raise an exception\n",
        "  result= 10 / 0\n",
        "except ZeroDivisionError:\n",
        "  # code to handle the exception\n",
        "  print(\"Cannot divide by zero.\")\n",
        "else:\n",
        "  # code to run if no exception occurs\n",
        "  print(\"Division successfull\")"
      ],
      "metadata": {
        "colab": {
          "base_uri": "https://localhost:8080/"
        },
        "id": "Rl8GkriYpEuh",
        "outputId": "9ca0b8cc-89ff-4e1c-8bd5-f93b05cafefd"
      },
      "execution_count": 47,
      "outputs": [
        {
          "output_type": "stream",
          "name": "stdout",
          "text": [
            "Cannot divide by zero.\n"
          ]
        }
      ]
    },
    {
      "cell_type": "code",
      "source": [
        "# Try-Except-Finally Block\n",
        "try:\n",
        "  # code that may raise an exception\n",
        "  result= 10 / 2\n",
        "except ZeroDivisionError:\n",
        "  # code to handle the exception\n",
        "  print(\"Cannot divide by zero.\")\n",
        "finally:\n",
        "  # code to run regardless of exception\n",
        "  print(\"Execution complete.\")"
      ],
      "metadata": {
        "colab": {
          "base_uri": "https://localhost:8080/"
        },
        "id": "YptI4Hzqpe8r",
        "outputId": "e6a4e6ea-6f17-4fac-99df-33ca1c2a3554"
      },
      "execution_count": 50,
      "outputs": [
        {
          "output_type": "stream",
          "name": "stdout",
          "text": [
            "Execution complete.\n"
          ]
        }
      ]
    },
    {
      "cell_type": "code",
      "source": [
        "# Handling Multiple Exceptions\n",
        "try:\n",
        "  # code that may raise an exception\n",
        "  number = int(input(\"Enter a number: \"))\n",
        "  result= 10 / number\n",
        "except ValueError:\n",
        "  #code to handle the exception\n",
        "  print(\"Invalid input! Please enter a number.\")\n",
        "except ZeroDivisionError:\n",
        "  # code to handle the exception\n",
        "  print(\"Cannot divide by zero.\")"
      ],
      "metadata": {
        "colab": {
          "base_uri": "https://localhost:8080/"
        },
        "id": "DoO2YVRpp_zv",
        "outputId": "b7c48b84-9a83-45f8-8fe6-73f356386967"
      },
      "execution_count": 53,
      "outputs": [
        {
          "output_type": "stream",
          "name": "stdout",
          "text": [
            "Enter a number: 0\n",
            "Cannot divide by zero.\n"
          ]
        }
      ]
    },
    {
      "cell_type": "code",
      "source": [
        "# Raising Exceptions\n",
        "def check_positive(number):\n",
        "  if number <= 0:\n",
        "    raise ValueError(\"Number must be positive\")\n",
        "try:\n",
        "  check_positive(-5)\n",
        "except ValueError as e:\n",
        "  print(e)\n",
        ""
      ],
      "metadata": {
        "colab": {
          "base_uri": "https://localhost:8080/"
        },
        "id": "AbmFpbsvrBrH",
        "outputId": "af33e75c-deb4-4467-da0c-b73f57629516"
      },
      "execution_count": 52,
      "outputs": [
        {
          "output_type": "stream",
          "name": "stdout",
          "text": [
            "Number must be positive\n"
          ]
        }
      ]
    }
  ]
}